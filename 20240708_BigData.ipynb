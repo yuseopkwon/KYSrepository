{
  "cells": [
    {
      "cell_type": "markdown",
      "metadata": {
        "id": "view-in-github",
        "colab_type": "text"
      },
      "source": [
        "<a href=\"https://colab.research.google.com/github/yuseopkwon/KYSrepository/blob/main/20240708_BigData.ipynb\" target=\"_parent\"><img src=\"https://colab.research.google.com/assets/colab-badge.svg\" alt=\"Open In Colab\"/></a>"
      ]
    },
    {
      "cell_type": "code",
      "execution_count": null,
      "metadata": {
        "colab": {
          "base_uri": "https://localhost:8080/"
        },
        "id": "gAzGGlTYosWb",
        "outputId": "c561079b-cd6f-4973-b15a-4594ed4fa6ea"
      },
      "outputs": [
        {
          "name": "stdout",
          "output_type": "stream",
          "text": [
            "7\n",
            "[1, 2, 3, 7, 5, 1, 3]\n"
          ]
        }
      ],
      "source": [
        "list1=[]\n",
        "list2=[1,2,3,4,5,1,3]\n",
        "a = len(list2)\n",
        "print(a)\n"
      ]
    },
    {
      "cell_type": "code",
      "execution_count": null,
      "metadata": {
        "colab": {
          "base_uri": "https://localhost:8080/"
        },
        "id": "N4J1iLyUwggK",
        "outputId": "d3919715-1db3-4c52-e457-630ed0402cbc"
      },
      "outputs": [
        {
          "name": "stdout",
          "output_type": "stream",
          "text": [
            "[1, 2, 3, 7, 5, 1, 3]\n"
          ]
        }
      ],
      "source": [
        "# 변경\n",
        "list2[3] = 7\n",
        "print(list2)"
      ]
    },
    {
      "cell_type": "code",
      "execution_count": null,
      "metadata": {
        "colab": {
          "base_uri": "https://localhost:8080/"
        },
        "id": "a7q4KSJZxaJs",
        "outputId": "8b6c47ac-6b0e-49c8-bace-4a1d639143d8"
      },
      "outputs": [
        {
          "name": "stdout",
          "output_type": "stream",
          "text": [
            "[1, 2, 3, 7, 5, 1, 3, 100, 100]\n"
          ]
        }
      ],
      "source": [
        "list2.append(100)\n",
        "print(list2)"
      ]
    },
    {
      "cell_type": "code",
      "execution_count": null,
      "metadata": {
        "colab": {
          "base_uri": "https://localhost:8080/"
        },
        "id": "iyQb_NNaxi5I",
        "outputId": "0c0ff4cd-3f38-421e-8f12-ec2c10d70fd5"
      },
      "outputs": [
        {
          "name": "stdout",
          "output_type": "stream",
          "text": [
            "[1, 2, 3, 7, 5, 1, 3, 100]\n"
          ]
        }
      ],
      "source": [
        "list2.pop()\n",
        "print(list2)"
      ]
    },
    {
      "cell_type": "code",
      "execution_count": null,
      "metadata": {
        "colab": {
          "base_uri": "https://localhost:8080/"
        },
        "id": "87jv0zW1xldz",
        "outputId": "29c22bd0-9148-446c-9c4e-869d49456eda"
      },
      "outputs": [
        {
          "name": "stdout",
          "output_type": "stream",
          "text": [
            "[1, 2, 3, 4, 7, 5, 1, 3, 100]\n"
          ]
        }
      ],
      "source": [
        "list2.insert(3,4)\n",
        "print(list2)"
      ]
    },
    {
      "cell_type": "code",
      "execution_count": null,
      "metadata": {
        "id": "dhtQ0SQux4OZ"
      },
      "outputs": [],
      "source": [
        "#조건문, 반복문 (for, while)\n",
        "# while i<=10:\n",
        "# for i in list:\n",
        "# for i in range:"
      ]
    },
    {
      "cell_type": "code",
      "execution_count": null,
      "metadata": {
        "colab": {
          "base_uri": "https://localhost:8080/"
        },
        "id": "aTKiLF8r5o4z",
        "outputId": "0aa8e82d-8e8d-43fe-bd62-af9a28decf00"
      },
      "outputs": [
        {
          "name": "stdout",
          "output_type": "stream",
          "text": [
            "nice one sonny\n"
          ]
        }
      ],
      "source": [
        "print(\"nice one sonny\")\n"
      ]
    },
    {
      "cell_type": "markdown",
      "metadata": {
        "id": "rQPesYDb59_T"
      },
      "source": [
        "1.보관 식재료 출력 2. 식재료 추가 3. 식재료 삭제 5. 종료"
      ]
    },
    {
      "cell_type": "code",
      "execution_count": null,
      "metadata": {
        "colab": {
          "base_uri": "https://localhost:8080/"
        },
        "id": "09foWtUT6KCb",
        "outputId": "f1e873b1-fb4a-4e9a-f42c-529f8bd9f189"
      },
      "outputs": [
        {
          "output_type": "stream",
          "name": "stdout",
          "text": [
            "1.보관 식재료 출력 2. 식재료 추가 3. 식재료 삭제 4. 식재료 재고 조회 5. 종료 \n",
            "\n"
          ]
        }
      ],
      "source": [
        "print(\"1.보관 식재료 출력 2. 식재료 추가 3. 식재료 삭제 4. 식재료 재고 조회 5. 종료\",\"\\n\")\n",
        "food = []\n",
        "while True:\n",
        "  a = int(input(\"\\n관리 메뉴 입력 : \"))\n",
        "  if a == 1:\n",
        "      print(\"보관 식재료 출력\",\"\\n\")\n",
        "      print(food)\n",
        "  elif a == 2:\n",
        "      print(\"식재료 추가\",\"\\n\")\n",
        "      food.append(input(\"식재료 입력 : \"))\n",
        "  elif a == 3:\n",
        "      print(\"오래된 식재료 삭제\",\"\\n\")\n",
        "      food.pop(-1)\n",
        "  elif a == 4:\n",
        "      print(\"4. 식재료 재고 조회\",\"\\n\")\n",
        "  elif a == 5:\n",
        "      print(\"종료\",\"\\n\")\n",
        "      break\n",
        "  else:\n",
        "      print(\"다른 번호를 입력하세요\",\"\\n\")"
      ]
    },
    {
      "cell_type": "code",
      "execution_count": null,
      "metadata": {
        "id": "xpkucSsm6rBr"
      },
      "outputs": [],
      "source": []
    }
  ],
  "metadata": {
    "colab": {
      "provenance": [],
      "authorship_tag": "ABX9TyNDD5ZpGVVs3sEmaOVfhkp2",
      "include_colab_link": true
    },
    "kernelspec": {
      "display_name": "Python 3",
      "name": "python3"
    },
    "language_info": {
      "name": "python"
    }
  },
  "nbformat": 4,
  "nbformat_minor": 0
}