{
  "nbformat": 4,
  "nbformat_minor": 0,
  "metadata": {
    "colab": {
      "provenance": [],
      "authorship_tag": "ABX9TyNlR0prdfsPQ5IFC65T6ncp",
      "include_colab_link": true
    },
    "kernelspec": {
      "name": "python3",
      "display_name": "Python 3"
    },
    "language_info": {
      "name": "python"
    }
  },
  "cells": [
    {
      "cell_type": "markdown",
      "metadata": {
        "id": "view-in-github",
        "colab_type": "text"
      },
      "source": [
        "<a href=\"https://colab.research.google.com/github/yuseopkwon/KYSrepository/blob/main/20240708_BigData.ipynb\" target=\"_parent\"><img src=\"https://colab.research.google.com/assets/colab-badge.svg\" alt=\"Open In Colab\"/></a>"
      ]
    },
    {
      "cell_type": "code",
      "execution_count": 11,
      "metadata": {
        "colab": {
          "base_uri": "https://localhost:8080/"
        },
        "id": "gAzGGlTYosWb",
        "outputId": "c561079b-cd6f-4973-b15a-4594ed4fa6ea"
      },
      "outputs": [
        {
          "output_type": "stream",
          "name": "stdout",
          "text": [
            "7\n",
            "[1, 2, 3, 7, 5, 1, 3]\n"
          ]
        }
      ],
      "source": [
        "list1=[]\n",
        "list2=[1,2,3,4,5,1,3]\n",
        "a = len(list2)\n",
        "print(a)\n"
      ]
    },
    {
      "cell_type": "code",
      "source": [
        "# 변경\n",
        "list2[3] = 7\n",
        "print(list2)"
      ],
      "metadata": {
        "colab": {
          "base_uri": "https://localhost:8080/"
        },
        "id": "N4J1iLyUwggK",
        "outputId": "d3919715-1db3-4c52-e457-630ed0402cbc"
      },
      "execution_count": 12,
      "outputs": [
        {
          "output_type": "stream",
          "name": "stdout",
          "text": [
            "[1, 2, 3, 7, 5, 1, 3]\n"
          ]
        }
      ]
    },
    {
      "cell_type": "code",
      "source": [
        "list2.append(100)\n",
        "print(list2)"
      ],
      "metadata": {
        "colab": {
          "base_uri": "https://localhost:8080/"
        },
        "id": "a7q4KSJZxaJs",
        "outputId": "8b6c47ac-6b0e-49c8-bace-4a1d639143d8"
      },
      "execution_count": 14,
      "outputs": [
        {
          "output_type": "stream",
          "name": "stdout",
          "text": [
            "[1, 2, 3, 7, 5, 1, 3, 100, 100]\n"
          ]
        }
      ]
    },
    {
      "cell_type": "code",
      "source": [
        "list2.pop()\n",
        "print(list2)"
      ],
      "metadata": {
        "colab": {
          "base_uri": "https://localhost:8080/"
        },
        "id": "iyQb_NNaxi5I",
        "outputId": "0c0ff4cd-3f38-421e-8f12-ec2c10d70fd5"
      },
      "execution_count": 16,
      "outputs": [
        {
          "output_type": "stream",
          "name": "stdout",
          "text": [
            "[1, 2, 3, 7, 5, 1, 3, 100]\n"
          ]
        }
      ]
    },
    {
      "cell_type": "code",
      "source": [
        "list2.insert(3,4)\n",
        "print(list2)"
      ],
      "metadata": {
        "colab": {
          "base_uri": "https://localhost:8080/"
        },
        "id": "87jv0zW1xldz",
        "outputId": "29c22bd0-9148-446c-9c4e-869d49456eda"
      },
      "execution_count": 17,
      "outputs": [
        {
          "output_type": "stream",
          "name": "stdout",
          "text": [
            "[1, 2, 3, 4, 7, 5, 1, 3, 100]\n"
          ]
        }
      ]
    },
    {
      "cell_type": "code",
      "source": [],
      "metadata": {
        "id": "dhtQ0SQux4OZ"
      },
      "execution_count": null,
      "outputs": []
    }
  ]
}